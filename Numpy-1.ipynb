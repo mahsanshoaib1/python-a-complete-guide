{
 "cells": [
  {
   "cell_type": "markdown",
   "id": "456355c4",
   "metadata": {},
   "source": [
    "# <span style=\"color:red\"> Libraries in python </span>"
   ]
  },
  {
   "cell_type": "code",
   "execution_count": 5,
   "id": "1d88c881",
   "metadata": {},
   "outputs": [
    {
     "name": "stdout",
     "output_type": "stream",
     "text": [
      "(30, -10, 200)\n"
     ]
    }
   ],
   "source": [
    "def calc(a, b):\n",
    "    return a+b, a-b, a*b\n",
    "\n",
    "print(calc(10,20))"
   ]
  },
  {
   "cell_type": "code",
   "execution_count": 8,
   "id": "0b70528a",
   "metadata": {},
   "outputs": [
    {
     "data": {
      "text/plain": [
       "6.0"
      ]
     },
     "execution_count": 8,
     "metadata": {},
     "output_type": "execute_result"
    }
   ],
   "source": [
    "import math\n",
    "\n",
    "math.sqrt(36)"
   ]
  },
  {
   "cell_type": "markdown",
   "id": "77bc3ca3",
   "metadata": {},
   "source": [
    "Libraries for dala analysis in python:\n",
    "1. numpy\n",
    "2. pandas\n",
    "3. matplotlib\n",
    "4. seaborn"
   ]
  },
  {
   "cell_type": "markdown",
   "id": "095a2cf1",
   "metadata": {},
   "source": [
    "## Importing numpy\n",
    "\n",
    "It mainly deals with arrays and metrices(matrics) and mathematical opetions. "
   ]
  },
  {
   "cell_type": "code",
   "execution_count": 12,
   "id": "b9ca1781",
   "metadata": {
    "scrolled": true
   },
   "outputs": [],
   "source": [
    "import numpy as np # to import comlete library  \n",
    "from numpy import arange  # to import a specific function from a library"
   ]
  },
  {
   "cell_type": "markdown",
   "id": "4283ddea",
   "metadata": {},
   "source": [
    "## creating arrays using numpy"
   ]
  },
  {
   "cell_type": "code",
   "execution_count": 13,
   "id": "c0f3cdcb",
   "metadata": {},
   "outputs": [
    {
     "data": {
      "text/plain": [
       "array([1, 2, 3, 4, 5, 6])"
      ]
     },
     "execution_count": 13,
     "metadata": {},
     "output_type": "execute_result"
    }
   ],
   "source": [
    "np.array([1,2,3,4,5,6]) # creating an array"
   ]
  },
  {
   "cell_type": "code",
   "execution_count": 16,
   "id": "81172c66",
   "metadata": {},
   "outputs": [
    {
     "data": {
      "text/plain": [
       "array([1, 2, 3, 4, 5, 6])"
      ]
     },
     "execution_count": 16,
     "metadata": {},
     "output_type": "execute_result"
    }
   ],
   "source": [
    "a = np.array([1,2,3,4,5,6]) # storing the array in a variable\n",
    "a"
   ]
  },
  {
   "cell_type": "markdown",
   "id": "2d6d8b2c",
   "metadata": {},
   "source": [
    "**Checking the data type of array**"
   ]
  },
  {
   "cell_type": "code",
   "execution_count": 17,
   "id": "a9d73dc3",
   "metadata": {},
   "outputs": [
    {
     "data": {
      "text/plain": [
       "numpy.ndarray"
      ]
     },
     "execution_count": 17,
     "metadata": {},
     "output_type": "execute_result"
    }
   ],
   "source": [
    "type(a)"
   ]
  },
  {
   "cell_type": "markdown",
   "id": "243951c1",
   "metadata": {},
   "source": [
    "[1,2,3,4,5,6]\n",
    "\n",
    "This array has 6 columns and 1 row. This is one dimentional array. **Array that has multiple columns and single row is called one-dimensional array**\n",
    "\n",
    "[[1,2,3,4,5,6], [7,8,9,10,11,12], [13,14,15,16,17,18]]\n",
    "\n",
    "This array has 6 columns and 3 rows. This is two dimentional array. **Array with multiple columns and multiple rows is called two-dimensional array**\n",
    "\n",
    "> A vector is a single dimensoinal array. \n",
    "\n",
    "> Array with two dimensions is called metircs. \n",
    "\n",
    "> 3-d arrays or higher than 3-d arrays are commonly called tensor.\n",
    "\n",
    "> axis is also called dimension.\n",
    "\n",
    "> Length of an array is the number of data points"
   ]
  },
  {
   "cell_type": "code",
   "execution_count": 19,
   "id": "a0a02051",
   "metadata": {},
   "outputs": [
    {
     "data": {
      "text/plain": [
       "array([0., 0., 0., 0., 0.])"
      ]
     },
     "execution_count": 19,
     "metadata": {},
     "output_type": "execute_result"
    }
   ],
   "source": [
    "np.zeros(5) # 5 is the length of array"
   ]
  },
  {
   "cell_type": "code",
   "execution_count": 20,
   "id": "e16e9ac1",
   "metadata": {},
   "outputs": [
    {
     "data": {
      "text/plain": [
       "array([1., 1., 1., 1., 1., 1., 1.])"
      ]
     },
     "execution_count": 20,
     "metadata": {},
     "output_type": "execute_result"
    }
   ],
   "source": [
    "np.ones(7) # array of ones with 7 length"
   ]
  },
  {
   "cell_type": "code",
   "execution_count": 21,
   "id": "3f0e5276",
   "metadata": {},
   "outputs": [
    {
     "data": {
      "text/plain": [
       "array([2.12199579e-314, 0.00000000e+000, 6.08688876e-321, 6.95208261e-310])"
      ]
     },
     "execution_count": 21,
     "metadata": {},
     "output_type": "execute_result"
    }
   ],
   "source": [
    "np.empty(4)"
   ]
  },
  {
   "cell_type": "code",
   "execution_count": 25,
   "id": "781efcd6",
   "metadata": {},
   "outputs": [
    {
     "data": {
      "text/plain": [
       "array([ 1.  ,  3.25,  5.5 ,  7.75, 10.  ])"
      ]
     },
     "execution_count": 25,
     "metadata": {},
     "output_type": "execute_result"
    }
   ],
   "source": [
    "np.linspace(1,10,5)  # (start data point of array, end data point, split into 5 parts)\n",
    "# 1 sy ly kr 10 tak ki array bnao, aur us ko 5 equal parts mein divide kr do. "
   ]
  },
  {
   "cell_type": "code",
   "execution_count": 29,
   "id": "45375a56",
   "metadata": {},
   "outputs": [
    {
     "data": {
      "text/plain": [
       "array([ 6,  9, 12, 15])"
      ]
     },
     "execution_count": 29,
     "metadata": {},
     "output_type": "execute_result"
    }
   ],
   "source": [
    "np.arange(6, 16, 3) # (start, end, steps)"
   ]
  },
  {
   "cell_type": "markdown",
   "id": "10499926",
   "metadata": {},
   "source": [
    "**The default data type is floating point.**\n",
    "\n",
    "## specifying data type of data points"
   ]
  },
  {
   "cell_type": "code",
   "execution_count": 31,
   "id": "80ff8708",
   "metadata": {},
   "outputs": [
    {
     "data": {
      "text/plain": [
       "array([1, 1, 1, 1, 1], dtype=int64)"
      ]
     },
     "execution_count": 31,
     "metadata": {},
     "output_type": "execute_result"
    }
   ],
   "source": [
    "np.ones(5, dtype = np.int64)"
   ]
  },
  {
   "cell_type": "markdown",
   "id": "c129375f",
   "metadata": {},
   "source": [
    "## Soting\n",
    "\n",
    "syntax:\n",
    "    \n",
    "    np.sort(array_name, axis = 1, kind, order)\n",
    "    kind = sorting algorithm"
   ]
  },
  {
   "cell_type": "code",
   "execution_count": 35,
   "id": "bdd01a97",
   "metadata": {},
   "outputs": [
    {
     "data": {
      "text/plain": [
       "array([ 1,  3,  4,  7, 21, 32, 34, 56, 89])"
      ]
     },
     "execution_count": 35,
     "metadata": {},
     "output_type": "execute_result"
    }
   ],
   "source": [
    "arr = np.array([3,4,1,7,32,56,89,21,34]) # creating the array\n",
    "arr.sort() # sorting the array\n",
    "arr # displaying"
   ]
  },
  {
   "cell_type": "code",
   "execution_count": 38,
   "id": "a54518c3",
   "metadata": {},
   "outputs": [
    {
     "data": {
      "text/plain": [
       "array([ 1,  3,  4,  7, 21, 32, 34, 56, 89])"
      ]
     },
     "execution_count": 38,
     "metadata": {},
     "output_type": "execute_result"
    }
   ],
   "source": [
    "arr = np.array([3,4,1,7,32,56,89,21,34]) # creating the array\n",
    "np.sort(arr)"
   ]
  },
  {
   "cell_type": "markdown",
   "id": "6d0f6b93",
   "metadata": {},
   "source": [
    "## Concatenation\n",
    "\n",
    "**Concatinating 1d arrays**"
   ]
  },
  {
   "cell_type": "code",
   "execution_count": 43,
   "id": "133e3434",
   "metadata": {
    "scrolled": true
   },
   "outputs": [
    {
     "data": {
      "text/plain": [
       "array([ 6,  7,  8,  9, 10,  1,  2,  3,  4,  5])"
      ]
     },
     "execution_count": 43,
     "metadata": {},
     "output_type": "execute_result"
    }
   ],
   "source": [
    "a = np.array([1,2,3,4,5])\n",
    "b = np.array([6,7,8,9,10])\n",
    "np.concatenate((b, a))"
   ]
  },
  {
   "cell_type": "code",
   "execution_count": 60,
   "id": "9b145eaa",
   "metadata": {},
   "outputs": [
    {
     "data": {
      "text/plain": [
       "array([ 1,  2,  3,  4,  5,  6,  7,  8,  9, 10])"
      ]
     },
     "execution_count": 60,
     "metadata": {},
     "output_type": "execute_result"
    }
   ],
   "source": [
    "a = np.array([1,2,3,4,5])\n",
    "b = np.array([6,7,8,9,10])\n",
    "np.concatenate((a, b), axis = 0)"
   ]
  },
  {
   "cell_type": "markdown",
   "id": "3318b0ce",
   "metadata": {},
   "source": [
    "**Concatinating 2d arrays**"
   ]
  },
  {
   "cell_type": "code",
   "execution_count": 49,
   "id": "c9a70477",
   "metadata": {},
   "outputs": [
    {
     "data": {
      "text/plain": [
       "array([[ 1,  2,  3,  4,  5],\n",
       "       [ 6,  7,  8,  9, 10],\n",
       "       [11, 12, 13, 14, 15],\n",
       "       [16, 17, 18, 19, 20]])"
      ]
     },
     "execution_count": 49,
     "metadata": {},
     "output_type": "execute_result"
    }
   ],
   "source": [
    "x = np.array([[1,2,3,4,5], [6,7,8,9,10]]) \n",
    "y = np.array([[11,12,13,14,15], [16,17,18,19,20]]) \n",
    "np.concatenate((x,y), axis = 0)"
   ]
  },
  {
   "cell_type": "code",
   "execution_count": 50,
   "id": "22b20c43",
   "metadata": {},
   "outputs": [
    {
     "data": {
      "text/plain": [
       "array([[ 1,  2,  3,  4,  5, 11, 12, 13, 14, 15],\n",
       "       [ 6,  7,  8,  9, 10, 16, 17, 18, 19, 20]])"
      ]
     },
     "execution_count": 50,
     "metadata": {},
     "output_type": "execute_result"
    }
   ],
   "source": [
    "np.concatenate((x,y), axis = 1)"
   ]
  },
  {
   "cell_type": "code",
   "execution_count": 54,
   "id": "e72e17fc",
   "metadata": {},
   "outputs": [
    {
     "data": {
      "text/plain": [
       "array([[ 1,  2,  3,  4,  5],\n",
       "       [ 6,  7,  8,  9, 10],\n",
       "       [11, 12, 13, 14, 15]])"
      ]
     },
     "execution_count": 54,
     "metadata": {},
     "output_type": "execute_result"
    }
   ],
   "source": [
    "x = np.array([[1,2,3,4,5], [6,7,8,9,10]]) \n",
    "y = np.array([[11,12,13,14, 15]])\n",
    "np.concatenate((x,y), axis = 0)"
   ]
  },
  {
   "cell_type": "markdown",
   "id": "1d5ead2b",
   "metadata": {},
   "source": [
    "1[] to make one-d array.\n",
    "\n",
    "2[] are used to make 2-d array\n",
    "\n",
    "3[] are used to make 3-d array\n",
    "\n",
    "> The lenght of arrays should be same for concatenation"
   ]
  },
  {
   "cell_type": "markdown",
   "id": "e53d9ac0",
   "metadata": {},
   "source": [
    "## Shape and Size of array\n",
    "\n",
    "\n",
    "Make two dimentional arrays, and join them with a square bracket"
   ]
  },
  {
   "cell_type": "code",
   "execution_count": 63,
   "id": "683eb5ae",
   "metadata": {},
   "outputs": [
    {
     "data": {
      "text/plain": [
       "array([[[ 0,  1,  2,  3],\n",
       "        [ 4,  5,  6,  7]],\n",
       "\n",
       "       [[ 8,  9, 10, 11],\n",
       "        [12, 13, 14, 15]],\n",
       "\n",
       "       [[16, 17, 18, 19],\n",
       "        [20, 21, 22, 23]]])"
      ]
     },
     "execution_count": 63,
     "metadata": {},
     "output_type": "execute_result"
    }
   ],
   "source": [
    "# creating a three dimentional array\n",
    "arr = np.array(\n",
    "[\n",
    "    [[0,1,2,3],\n",
    "    [4,5,6,7]],\n",
    "    \n",
    "    [[8,9,10,11],\n",
    "    [12,13,14,15]],\n",
    "    \n",
    "    [[16,17,18,19],\n",
    "    [20,21,22,23]]\n",
    "    \n",
    "])\n",
    "\n",
    "arr"
   ]
  },
  {
   "cell_type": "markdown",
   "id": "2ae51bb0",
   "metadata": {},
   "source": [
    "Checking dimension of arrays"
   ]
  },
  {
   "cell_type": "code",
   "execution_count": 62,
   "id": "d4f8d3ab",
   "metadata": {},
   "outputs": [
    {
     "data": {
      "text/plain": [
       "3"
      ]
     },
     "execution_count": 62,
     "metadata": {},
     "output_type": "execute_result"
    }
   ],
   "source": [
    "arr.ndim"
   ]
  },
  {
   "cell_type": "code",
   "execution_count": 64,
   "id": "b119dcc1",
   "metadata": {},
   "outputs": [
    {
     "data": {
      "text/plain": [
       "3"
      ]
     },
     "execution_count": 64,
     "metadata": {},
     "output_type": "execute_result"
    }
   ],
   "source": [
    "np.ndim(arr)"
   ]
  },
  {
   "cell_type": "markdown",
   "id": "2e8f80f2",
   "metadata": {},
   "source": [
    "Checking shape of an array"
   ]
  },
  {
   "cell_type": "code",
   "execution_count": 71,
   "id": "48b099ca",
   "metadata": {},
   "outputs": [
    {
     "data": {
      "text/plain": [
       "(3,)"
      ]
     },
     "execution_count": 71,
     "metadata": {},
     "output_type": "execute_result"
    }
   ],
   "source": [
    "# checking shape of 1-d array\n",
    "a = np.array([1,23,4])\n",
    "a.shape # output(column)"
   ]
  },
  {
   "cell_type": "code",
   "execution_count": 72,
   "id": "81068977",
   "metadata": {},
   "outputs": [
    {
     "data": {
      "text/plain": [
       "(2, 5)"
      ]
     },
     "execution_count": 72,
     "metadata": {},
     "output_type": "execute_result"
    }
   ],
   "source": [
    "# checking shape of 2-d array\n",
    "x.shape # output(ros, column)"
   ]
  },
  {
   "cell_type": "code",
   "execution_count": 73,
   "id": "403e8041",
   "metadata": {},
   "outputs": [
    {
     "data": {
      "text/plain": [
       "(3, 2, 4)"
      ]
     },
     "execution_count": 73,
     "metadata": {},
     "output_type": "execute_result"
    }
   ],
   "source": [
    "# checking shape of 3-d array\n",
    "\n",
    "arr.shape # output (dimension, rows, columns)"
   ]
  },
  {
   "cell_type": "code",
   "execution_count": null,
   "id": "2578293e",
   "metadata": {},
   "outputs": [],
   "source": []
  }
 ],
 "metadata": {
  "kernelspec": {
   "display_name": "Python 3 (ipykernel)",
   "language": "python",
   "name": "python3"
  },
  "language_info": {
   "codemirror_mode": {
    "name": "ipython",
    "version": 3
   },
   "file_extension": ".py",
   "mimetype": "text/x-python",
   "name": "python",
   "nbconvert_exporter": "python",
   "pygments_lexer": "ipython3",
   "version": "3.10.9"
  }
 },
 "nbformat": 4,
 "nbformat_minor": 5
}
