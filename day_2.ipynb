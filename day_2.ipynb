{
 "cells": [
  {
   "attachments": {},
   "cell_type": "markdown",
   "metadata": {},
   "source": [
    "#   <--------------------------------------Day-2------------------------------------------> \n",
    "#   Variables\n",
    "#   Data Types\n",
    "#   Assignment Operators"
   ]
  },
  {
   "attachments": {},
   "cell_type": "markdown",
   "metadata": {},
   "source": [
    "> Variables are the containers in which we can store our data and can use that later when needed"
   ]
  },
  {
   "cell_type": "code",
   "execution_count": 1,
   "metadata": {},
   "outputs": [
    {
     "name": "stdout",
     "output_type": "stream",
     "text": [
      "23\n"
     ]
    }
   ],
   "source": [
    "var1 = 23 # var1 is the name of the variabl. = is the assignment operator and 23 is the value or the data in var1\n",
    "print(var1)"
   ]
  },
  {
   "cell_type": "code",
   "execution_count": 3,
   "metadata": {},
   "outputs": [
    {
     "name": "stdout",
     "output_type": "stream",
     "text": [
      "This is Python.\n"
     ]
    }
   ],
   "source": [
    "var2 = \"This is Python.\" # we can also strore string\n",
    "print(var2)"
   ]
  },
  {
   "attachments": {},
   "cell_type": "markdown",
   "metadata": {},
   "source": [
    "### Variables are of different types\n",
    "1. String ----- anything stored in qoutes is called string\n",
    "2. Integers--- couting or numbers are called integers\n",
    "3. Float ------ continous number or number with point in it. \n",
    "4. Boolean ---- True of False\n",
    "\n",
    "> we use type() function to check the data type of a variables"
   ]
  },
  {
   "cell_type": "code",
   "execution_count": 5,
   "metadata": {},
   "outputs": [],
   "source": [
    "num1 = 23\n",
    "var5 = 23.4\n",
    "var3 = \"hi how are you\"\n",
    "var4 = True"
   ]
  },
  {
   "cell_type": "code",
   "execution_count": 6,
   "metadata": {},
   "outputs": [
    {
     "name": "stdout",
     "output_type": "stream",
     "text": [
      "<class 'int'>\n",
      "<class 'float'>\n",
      "<class 'str'>\n",
      "<class 'bool'>\n"
     ]
    }
   ],
   "source": [
    "print(type(num1)) # output class <int>\n",
    "print(type(var5)) # output class <float>\n",
    "print(type(var3)) # output class <str>\n",
    "print(type(var4)) # output class <bool>"
   ]
  },
  {
   "attachments": {},
   "cell_type": "markdown",
   "metadata": {},
   "source": [
    "The Assignment operators are used to assign a value to a variable. These are:\n",
    "1. =\n",
    "2. +=\n",
    "3. -=\n",
    "4. *=\n",
    "5. /=\n",
    "6. %="
   ]
  },
  {
   "cell_type": "code",
   "execution_count": 8,
   "metadata": {},
   "outputs": [
    {
     "name": "stdout",
     "output_type": "stream",
     "text": [
      "6\n",
      "4\n"
     ]
    }
   ],
   "source": [
    "# example of operators\n",
    "\n",
    "num1 = 2\n",
    "num2 = 4\n",
    "num2+= num1\n",
    "print(num2) #output 6\n",
    "num2 -=num1\n",
    "print(num2) # output 4"
   ]
  },
  {
   "attachments": {},
   "cell_type": "markdown",
   "metadata": {},
   "source": [
    "> we can also declare variables as"
   ]
  },
  {
   "cell_type": "code",
   "execution_count": 10,
   "metadata": {},
   "outputs": [
    {
     "name": "stdout",
     "output_type": "stream",
     "text": [
      "2\n",
      "5\n"
     ]
    }
   ],
   "source": [
    "a,b = 2,5\n",
    "print(a) # output 2\n",
    "print(b) # output 5\n",
    "# we can declare more than 2 variables in the same style"
   ]
  }
 ],
 "metadata": {
  "kernelspec": {
   "display_name": "Python 3",
   "language": "python",
   "name": "python3"
  },
  "language_info": {
   "codemirror_mode": {
    "name": "ipython",
    "version": 3
   },
   "file_extension": ".py",
   "mimetype": "text/x-python",
   "name": "python",
   "nbconvert_exporter": "python",
   "pygments_lexer": "ipython3",
   "version": "3.10.6"
  },
  "orig_nbformat": 4
 },
 "nbformat": 4,
 "nbformat_minor": 2
}
