{
 "cells": [
  {
   "attachments": {},
   "cell_type": "markdown",
   "metadata": {},
   "source": [
    "# <------------------------------------------Day-3-------------------------------------->"
   ]
  },
  {
   "attachments": {},
   "cell_type": "markdown",
   "metadata": {},
   "source": [
    "## Comments in Python\n",
    "\n",
    "> Comments are the instructions which are not execute or read by the interprater.\n",
    ">\n",
    "> They are wirtten as stikcy notes, so that the 3rd person can easily understand whats going on in the program.\n",
    ">\n",
    "> Comments are witten with \"#\" this sign. \n",
    ">\n",
    "> We can also use \"\"\"triple qoute\"\"\" for multiple line comments"
   ]
  },
  {
   "cell_type": "code",
   "execution_count": 1,
   "metadata": {},
   "outputs": [
    {
     "name": "stdout",
     "output_type": "stream",
     "text": [
      "comments are not read by the interpretart. Or you can say they don't exist according to the interoreter.\n"
     ]
    }
   ],
   "source": [
    "# This is comment and in this program we are going to write something using print() function in python.\n",
    "print(\"comments are not read by the interpretart. Or you can say they don't exist according to the interoreter.\")"
   ]
  },
  {
   "attachments": {},
   "cell_type": "markdown",
   "metadata": {},
   "source": [
    "## Arithmetic Operators in Python\n",
    "\n",
    "There are different types of operators in python. We leart the assignment operator earlier. No we are going to study arithmetic operators in python.\n",
    "\n",
    "Arithmetic operators in python are: "
   ]
  },
  {
   "attachments": {},
   "cell_type": "markdown",
   "metadata": {},
   "source": [
    "### 1. Arithmetic Operators with integers and floats:"
   ]
  },
  {
   "cell_type": "code",
   "execution_count": 3,
   "metadata": {},
   "outputs": [
    {
     "name": "stdout",
     "output_type": "stream",
     "text": [
      "The 1st operator is +. Used to add two numbers or variables. For example, \n",
      "7\n"
     ]
    }
   ],
   "source": [
    "print(\"The 1st operator is +. Used to add two numbers or variables. For example, \")\n",
    "print(2+5) # ouput 7"
   ]
  },
  {
   "cell_type": "code",
   "execution_count": 12,
   "metadata": {},
   "outputs": [
    {
     "name": "stdout",
     "output_type": "stream",
     "text": [
      "The 2st operator is -. Used to minus two numbers or variables. For example,  3\n",
      "The 3st operator is *. Used to multiply two numbers or variables. For example,  10\n",
      "The 4st operator is /. Used to divide two numbers or variables. For example,  2.5\n",
      "The 5st operator is //. Used to divide two numbers or variables. For example,  2\n",
      "The 6st operator is **. Used as a power. For example,  25\n",
      "The 6st operator is %. Used as a reminder operator. For example,  1\n"
     ]
    }
   ],
   "source": [
    "print(\"The 2st operator is -. Used to minus two numbers or variables. For example, \", 5-2) # output 3\n",
    "print(\"The 3st operator is *. Used to multiply two numbers or variables. For example, \", 5*2) # output 10\n",
    "print(\"The 4st operator is /. Used to divide two numbers or variables. For example, \", 5/2) # output 2.5, and with the data type float\n",
    "print(\"The 5st operator is //. Used to divide two numbers or variables. For example, \", 5//2) # output 2, with the the data type int\n",
    "print(\"The 6st operator is **. Used as a power. For example, \", 5**2) # output 25\n",
    "print(\"The 6st operator is %. Used as a reminder operator. For example, \", 5%2) # output 1\n"
   ]
  },
  {
   "attachments": {},
   "cell_type": "markdown",
   "metadata": {},
   "source": [
    "### 2. Arithmetic Operators with Strings:\n",
    "\n",
    "We can also use arithmetic operators with strings. Like + sign used to concatinate the two strings, and * with a number write the the string multiple times\n"
   ]
  },
  {
   "cell_type": "code",
   "execution_count": 18,
   "metadata": {},
   "outputs": [
    {
     "name": "stdout",
     "output_type": "stream",
     "text": [
      "This is the first string variable.\n",
      "This is the 2nd.\n",
      "This is the first string variable.This is the 2nd.\n"
     ]
    }
   ],
   "source": [
    "a = \"This is the first string variable.\"\n",
    "b = \"This is the 2nd.\"\n",
    "c = a+b  # this is called concatination\n",
    "print(a)\n",
    "print(b)\n",
    "print(c)"
   ]
  },
  {
   "attachments": {},
   "cell_type": "markdown",
   "metadata": {},
   "source": [
    "Lets multiply a string\n"
   ]
  },
  {
   "cell_type": "code",
   "execution_count": 25,
   "metadata": {},
   "outputs": [
    {
     "name": "stdout",
     "output_type": "stream",
     "text": [
      "Im multiplying it with two. This will be written two times. Im multiplying it with two. This will be written two times. \n"
     ]
    }
   ],
   "source": [
    "a=\"Im multiplying it with two. This will be written two times. \"\n",
    "print(a*2)"
   ]
  },
  {
   "attachments": {},
   "cell_type": "markdown",
   "metadata": {},
   "source": [
    "## Types Casting\n",
    "\n",
    "\n",
    "**Changing the data type of a variable is called type casting.** \n",
    "\n",
    "Type() is a function used to check the data type of a variable\n",
    "\n",
    "To change the data type we simply write the interested datatype and then put the variable in a paranthesis() after the data types. For example,"
   ]
  },
  {
   "cell_type": "code",
   "execution_count": 27,
   "metadata": {},
   "outputs": [
    {
     "name": "stdout",
     "output_type": "stream",
     "text": [
      "<class 'float'>\n",
      "<class 'int'>\n"
     ]
    }
   ],
   "source": [
    "a = 23.3\n",
    "print(type(a)) # output float\n",
    "a = int(a)\n",
    "print(type(a)) # output int"
   ]
  },
  {
   "cell_type": "code",
   "execution_count": 31,
   "metadata": {},
   "outputs": [
    {
     "name": "stdout",
     "output_type": "stream",
     "text": [
      "<class 'float'>\n",
      "<class 'str'>\n"
     ]
    }
   ],
   "source": [
    "a = 23.3\n",
    "print(type(a)) # output float\n",
    "a = str(a)\n",
    "print(type(a)) # output str"
   ]
  },
  {
   "cell_type": "code",
   "execution_count": 34,
   "metadata": {},
   "outputs": [
    {
     "name": "stdout",
     "output_type": "stream",
     "text": [
      "<class 'str'>\n",
      "<class 'float'>\n"
     ]
    }
   ],
   "source": [
    "a = \"23.3\"\n",
    "print(type(a)) # output str\n",
    "a = float(a)\n",
    "print(type(a)) # output float"
   ]
  },
  {
   "cell_type": "code",
   "execution_count": null,
   "metadata": {},
   "outputs": [],
   "source": [
    "a = \"hi\"\n",
    "print(type(a)) # output float\n",
    "a = int(a)     # Error, as \"hi\" cannot be changed into an integer\n",
    "print(type(a)) # output int"
   ]
  }
 ],
 "metadata": {
  "kernelspec": {
   "display_name": "Python 3",
   "language": "python",
   "name": "python3"
  },
  "language_info": {
   "codemirror_mode": {
    "name": "ipython",
    "version": 3
   },
   "file_extension": ".py",
   "mimetype": "text/x-python",
   "name": "python",
   "nbconvert_exporter": "python",
   "pygments_lexer": "ipython3",
   "version": "3.10.6"
  },
  "orig_nbformat": 4
 },
 "nbformat": 4,
 "nbformat_minor": 2
}
