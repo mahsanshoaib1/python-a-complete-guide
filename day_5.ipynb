{
 "cells": [
  {
   "attachments": {},
   "cell_type": "markdown",
   "metadata": {},
   "source": [
    "# <------------------------------------------Day-4-------------------------------------->\n",
    "\n",
    "- Conditional sentences are statements that check whether a certain condition is true or false. \n",
    "- These conditions are usually expressed using conditional or comparison operators.\n",
    "- Conditional/relational operators (==, !=, <, <=, >=,> )\n",
    "- If-Else statement.\n",
    "- If-elif-else statement.\n",
    "- nested if-else statement.\n",
    "- Binary operators (+,-,*,/,%.**)\n",
    "- Logical operators (and, or, not).\n",
    "- Different styles to write condition.\n"
   ]
  },
  {
   "attachments": {},
   "cell_type": "markdown",
   "metadata": {},
   "source": [
    "### Comparison Operators are \n",
    "\n",
    "- \"==\"  equal to\n",
    "- \"!=\"  Not equal to \n",
    "- \"<\"   Smaller than\n",
    "- \"<=\"  Smaller than or equal to \n",
    "- \">\"   Greater than\n",
    "- \">=\"  Greater than or equal to"
   ]
  },
  {
   "attachments": {},
   "cell_type": "markdown",
   "metadata": {},
   "source": [
    "### Syntax\n",
    "\"\"\"python\n",
    "\n",
    "    if condition1:\n",
    "         ///////////////// execute if condition1 is true\n",
    "    elif condition2:\n",
    "         //////////////// execute if condition2 is true\n",
    "    else:\n",
    "         /////////////// execute if all conditions are false\n",
    "\"\"\"\n"
   ]
  },
  {
   "attachments": {},
   "cell_type": "markdown",
   "metadata": {},
   "source": [
    "## Simple If"
   ]
  },
  {
   "cell_type": "code",
   "execution_count": 11,
   "metadata": {},
   "outputs": [
    {
     "name": "stdout",
     "output_type": "stream",
     "text": [
      "the value of a is smaller than a\n",
      "the value of a is greater than 6\n"
     ]
    }
   ],
   "source": [
    "a = 10\n",
    "if a<13:\n",
    "    print(\"the value of a is smaller than a\")\n",
    "if a>6:\n",
    "    print(\"the value of a is greater than 6\")"
   ]
  },
  {
   "attachments": {},
   "cell_type": "markdown",
   "metadata": {},
   "source": [
    "## If-Else"
   ]
  },
  {
   "cell_type": "code",
   "execution_count": 12,
   "metadata": {},
   "outputs": [
    {
     "name": "stdout",
     "output_type": "stream",
     "text": [
      "not excellent\n"
     ]
    }
   ],
   "source": [
    "marks = 10\n",
    "if marks>90:\n",
    "    print(\"excellent\")\n",
    "else:\n",
    "    print(\"not excellent\")"
   ]
  },
  {
   "attachments": {},
   "cell_type": "markdown",
   "metadata": {},
   "source": [
    "## if-elif-else"
   ]
  },
  {
   "cell_type": "code",
   "execution_count": 14,
   "metadata": {},
   "outputs": [
    {
     "name": "stdout",
     "output_type": "stream",
     "text": [
      "You are also a good student.\n"
     ]
    }
   ],
   "source": [
    "a = int(input(\"write your marks: \"))\n",
    "if a>=90:\n",
    "    print(\"you must a very good student.\")\n",
    "elif(a>=80):\n",
    "    print(\"You are also a good student.\")\n",
    "elif (a>=50):\n",
    "    print(\"try some work hard.\")\n",
    "else:\n",
    "    print(\"you are fail.\")"
   ]
  },
  {
   "attachments": {},
   "cell_type": "markdown",
   "metadata": {},
   "source": [
    "nested if-else statement syntax\n",
    "\n",
    "\"\"\"python\n",
    "\n",
    "    if condition1:\n",
    "       ////// execute if condition1 is true\n",
    "               if condition2:\n",
    "                   ///// execute if condition2 is true\n",
    "               else:\n",
    "                   ///// execute if condition2 is false\n",
    "    else:\n",
    "       /////// execute if condition1 is false \n",
    "\"\"\"\n"
   ]
  },
  {
   "cell_type": "code",
   "execution_count": 17,
   "metadata": {},
   "outputs": [
    {
     "name": "stdout",
     "output_type": "stream",
     "text": [
      "a is smaller than both the numbers\n"
     ]
    }
   ],
   "source": [
    "a = 34\n",
    "b = 36\n",
    "c = 65\n",
    "\n",
    "if a>b:\n",
    "    if a>c:\n",
    "        print(\"a is greater than both the numbers\")\n",
    "    else:\n",
    "        print(\"a is greater than b but smaller tha c\")\n",
    "if a<b:\n",
    "    if a<c:\n",
    "        print(\"a is smaller than both the numbers\")\n",
    "    else:\n",
    "        print(\"a is smaller than b but greater than b. \")"
   ]
  }
 ],
 "metadata": {
  "kernelspec": {
   "display_name": "Python 3",
   "language": "python",
   "name": "python3"
  },
  "language_info": {
   "codemirror_mode": {
    "name": "ipython",
    "version": 3
   },
   "file_extension": ".py",
   "mimetype": "text/x-python",
   "name": "python",
   "nbconvert_exporter": "python",
   "pygments_lexer": "ipython3",
   "version": "3.10.6"
  },
  "orig_nbformat": 4
 },
 "nbformat": 4,
 "nbformat_minor": 2
}
