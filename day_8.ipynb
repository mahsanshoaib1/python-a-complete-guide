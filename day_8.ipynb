{
 "cells": [
  {
   "attachments": {},
   "cell_type": "markdown",
   "metadata": {},
   "source": [
    "# <------------------------------------------Day-8-------------------------------------->\n"
   ]
  },
  {
   "attachments": {},
   "cell_type": "markdown",
   "metadata": {},
   "source": [
    "## Loops\n",
    "\n",
    "**Loop are used to perform a specific task repeatatively. Rather than writing the task again and again we use loops for that.**\n",
    "\n",
    "In python, there are two types of loops:\n",
    "1. for loop\n",
    "2. While loop\n",
    "\n",
    "Syntax of for loop:\n",
    "\"\"\"Python\n",
    "\n",
    "    for variable in range(condition):\n",
    "        block of code\n",
    "\n",
    "\"\"\""
   ]
  },
  {
   "attachments": {},
   "cell_type": "markdown",
   "metadata": {},
   "source": [
    "### For with range() \n",
    "\n",
    "**range() function is used to generate a sequence of numbers.**\n",
    "\n",
    "range(end)---------------->range(10)------> start from zero, end at 9. total 10\n",
    "\n",
    "range(start,end)---------->range(5,10)----> start from 5, end at 9. \n",
    "\n",
    "range(start, end, steps)-->range(2,10,2)--> start from 2, end at 9 skip every 2nd iteration."
   ]
  },
  {
   "cell_type": "code",
   "execution_count": 3,
   "metadata": {},
   "outputs": [
    {
     "name": "stdout",
     "output_type": "stream",
     "text": [
      "0,1,2,3,4,5,6,7,8,9,"
     ]
    }
   ],
   "source": [
    "for i in range(10):\n",
    "    print(i, end=\",\")"
   ]
  },
  {
   "cell_type": "code",
   "execution_count": 4,
   "metadata": {},
   "outputs": [
    {
     "name": "stdout",
     "output_type": "stream",
     "text": [
      "2,3,4,5,6,7,8,9,"
     ]
    }
   ],
   "source": [
    "for i in range(2,10):\n",
    "    print(i, end=\",\")"
   ]
  },
  {
   "cell_type": "code",
   "execution_count": 5,
   "metadata": {},
   "outputs": [
    {
     "name": "stdout",
     "output_type": "stream",
     "text": [
      "2,4,6,8,"
     ]
    }
   ],
   "source": [
    "for i in range(2,10,2):\n",
    "    print(i, end=\",\")"
   ]
  },
  {
   "cell_type": "code",
   "execution_count": 7,
   "metadata": {},
   "outputs": [
    {
     "name": "stdout",
     "output_type": "stream",
     "text": [
      "0\n",
      "1\n",
      "2\n",
      "3\n",
      "4\n"
     ]
    }
   ],
   "source": [
    "# w can also write as\n",
    "a=\"ahsan\"\n",
    "for i in range (len(a)):\n",
    "    print(i)"
   ]
  },
  {
   "attachments": {},
   "cell_type": "markdown",
   "metadata": {},
   "source": [
    "### For loop with iterables\n",
    " syntax :\n",
    "\"\"\"python \n",
    "\n",
    "    for variable in iterables :              #variables = values of each item , iterable = list,tuple objects that can be iterated\n",
    "        block of code\n",
    "\"\"\""
   ]
  },
  {
   "cell_type": "code",
   "execution_count": 8,
   "metadata": {},
   "outputs": [
    {
     "name": "stdout",
     "output_type": "stream",
     "text": [
      "ahsan\n",
      "ali\n",
      "abdullah\n"
     ]
    }
   ],
   "source": [
    "li = [\"ahsan\", \"ali\", \"abdullah\"]\n",
    "for i in li:\n",
    "    print(i)"
   ]
  },
  {
   "cell_type": "code",
   "execution_count": 17,
   "metadata": {},
   "outputs": [
    {
     "name": "stdout",
     "output_type": "stream",
     "text": [
      "ahsan\n",
      " 0,\n",
      " 1,\n",
      " 2,\n",
      " 3,\n",
      " 4,"
     ]
    }
   ],
   "source": [
    "a= \"ahsan\"\n",
    "for i in a:\n",
    "    print(i, end=\"\")\n",
    "for i in range(len(a)):\n",
    "    print(\"\\n\",i, end=\",\")"
   ]
  },
  {
   "attachments": {},
   "cell_type": "markdown",
   "metadata": {},
   "source": [
    "### For loop with enumerate functions\n",
    "\n",
    "syntax:\n",
    "\"\"\"python\n",
    "\n",
    "     for index, value in enumerate(iterable):\n",
    "          Loop body\n",
    "          Code to be executed for each index-value pair\n",
    "     \n",
    "\"\"\""
   ]
  },
  {
   "cell_type": "code",
   "execution_count": 20,
   "metadata": {},
   "outputs": [
    {
     "name": "stdout",
     "output_type": "stream",
     "text": [
      "0 ahsan\n",
      "1 ali\n",
      "2 abdullah\n"
     ]
    }
   ],
   "source": [
    "for i, value in enumerate (li):\n",
    "    print(i,value)"
   ]
  },
  {
   "attachments": {},
   "cell_type": "markdown",
   "metadata": {},
   "source": [
    "### For loop with zip functions\n",
    "\n",
    "syntax:\n",
    "\"\"\"python\n",
    "\n",
    "     for item1, item2 in zip(iterable):\n",
    "          Loop body\n",
    "          Code to be executed for each index-value pair\n",
    "     \n",
    "\"\"\""
   ]
  },
  {
   "cell_type": "code",
   "execution_count": 21,
   "metadata": {},
   "outputs": [
    {
     "name": "stdout",
     "output_type": "stream",
     "text": [
      "name Ali\n",
      "age 22\n",
      "class 4th\n"
     ]
    }
   ],
   "source": [
    "li=[\"name\", \"age\", \"class\"]\n",
    "li2 = [\"Ali\", \"22\", \"4th\"]\n",
    "for i1, i2 in zip(li,li2):\n",
    "    print(i1,i2)"
   ]
  },
  {
   "attachments": {},
   "cell_type": "markdown",
   "metadata": {},
   "source": [
    "# <------------------------------------------Day-9-------------------------------------->\n"
   ]
  },
  {
   "attachments": {},
   "cell_type": "markdown",
   "metadata": {},
   "source": [
    "### While loop\n",
    "\n",
    "**While loop is used to execute a block of code repeatedly until a given condition is satisfied.**\n",
    "\n",
    "syntax:\n",
    "\"\"\"python\n",
    "\n",
    "    initialization\n",
    "    while condition:\n",
    "        block of code\n",
    "\n",
    "\"\"\""
   ]
  },
  {
   "cell_type": "code",
   "execution_count": 3,
   "metadata": {},
   "outputs": [
    {
     "name": "stdout",
     "output_type": "stream",
     "text": [
      "0 hi, how are you. \n",
      "1 hi, how are you. \n",
      "2 hi, how are you. \n",
      "3 hi, how are you. \n",
      "4 hi, how are you. \n",
      "5 hi, how are you. \n",
      "6 hi, how are you. \n",
      "7 hi, how are you. \n",
      "8 hi, how are you. \n",
      "9 hi, how are you. \n"
     ]
    }
   ],
   "source": [
    "i =0\n",
    "while i<10:\n",
    "    print(i, \"hi, how are you. \")\n",
    "    i=i+1"
   ]
  },
  {
   "cell_type": "code",
   "execution_count": 4,
   "metadata": {},
   "outputs": [
    {
     "name": "stdout",
     "output_type": "stream",
     "text": [
      "Apple\n",
      "Banana\n",
      "watermelon\n",
      "Mango\n",
      "strawberry\n"
     ]
    }
   ],
   "source": [
    "fruits = ['Apple', 'Banana', 'watermelon', 'Mango', 'strawberry'] \n",
    "i = 0\n",
    "while i < len(fruits):\n",
    "    print(fruits[i])\n",
    "    i = i+1"
   ]
  }
 ],
 "metadata": {
  "kernelspec": {
   "display_name": "Python 3",
   "language": "python",
   "name": "python3"
  },
  "language_info": {
   "codemirror_mode": {
    "name": "ipython",
    "version": 3
   },
   "file_extension": ".py",
   "mimetype": "text/x-python",
   "name": "python",
   "nbconvert_exporter": "python",
   "pygments_lexer": "ipython3",
   "version": "3.10.6"
  },
  "orig_nbformat": 4
 },
 "nbformat": 4,
 "nbformat_minor": 2
}
