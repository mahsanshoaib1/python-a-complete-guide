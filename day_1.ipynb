{
 "cells": [
  {
   "attachments": {},
   "cell_type": "markdown",
   "metadata": {},
   "source": [
    "#                                                      This is my first python program. The use of print\n"
   ]
  },
  {
   "cell_type": "code",
   "execution_count": 1,
   "metadata": {},
   "outputs": [
    {
     "name": "stdout",
     "output_type": "stream",
     "text": [
      "hello world\n"
     ]
    }
   ],
   "source": [
    "print(\"hello world\") "
   ]
  },
  {
   "attachments": {},
   "cell_type": "markdown",
   "metadata": {},
   "source": [
    "> print() is a function in python used for output operation. Used to display or get any output\n"
   ]
  },
  {
   "cell_type": "code",
   "execution_count": 2,
   "metadata": {},
   "outputs": [
    {
     "name": "stdout",
     "output_type": "stream",
     "text": [
      "hi, how are you\n"
     ]
    }
   ],
   "source": [
    "print(\"hi, how are you\") # output hi, how are you\n"
   ]
  },
  {
   "attachments": {},
   "cell_type": "markdown",
   "metadata": {},
   "source": [
    "> we can also use commas in print like."
   ]
  },
  {
   "cell_type": "code",
   "execution_count": 3,
   "metadata": {},
   "outputs": [
    {
     "name": "stdout",
     "output_type": "stream",
     "text": [
      "hi how are you you must be doing well\n"
     ]
    }
   ],
   "source": [
    "print(\"hi how are you\", \"you must be doing well\")"
   ]
  },
  {
   "attachments": {},
   "cell_type": "markdown",
   "metadata": {},
   "source": [
    "> Two different string are separated by a space by default. We can define the separator using sep. "
   ]
  },
  {
   "cell_type": "code",
   "execution_count": 6,
   "metadata": {},
   "outputs": [
    {
     "name": "stdout",
     "output_type": "stream",
     "text": [
      "This is my first program in python, or you can say the first tutorial of python.\n"
     ]
    }
   ],
   "source": [
    "print(\"This is my first program in python\", \"or you can say the first tutorial of python.\", sep=\", \")"
   ]
  },
  {
   "attachments": {},
   "cell_type": "markdown",
   "metadata": {},
   "source": [
    "> We can also write numbers. Alphabets and symbols are written in single, double or triple qoutes\n",
    ">\n",
    "> While numbers are friends of programming and compiler/interpreter can recognize then if simply written without any qoutes"
   ]
  },
  {
   "cell_type": "code",
   "execution_count": 8,
   "metadata": {},
   "outputs": [
    {
     "name": "stdout",
     "output_type": "stream",
     "text": [
      "123 4 5 6\n"
     ]
    }
   ],
   "source": [
    "print(123,4,5,6)"
   ]
  },
  {
   "attachments": {},
   "cell_type": "markdown",
   "metadata": {},
   "source": [
    "> Numbers are called integers in python and\n",
    ">\n",
    "> Alphabets, symbols or anything witten in qoutes is called string in python"
   ]
  },
  {
   "cell_type": "code",
   "execution_count": 11,
   "metadata": {},
   "outputs": [
    {
     "name": "stdout",
     "output_type": "stream",
     "text": [
      "The type of 12 is:  <class 'int'>\n",
      "The type of 'hi' is:  <class 'str'>\n"
     ]
    }
   ],
   "source": [
    "print(\"The type of 12 is: \", type(12))     # Type is a fucntion which tells the types of text. #output class <int>\n",
    "print(\"The type of 'hi' is: \", type(\"Hi\"))  # output class <str>"
   ]
  },
  {
   "attachments": {},
   "cell_type": "markdown",
   "metadata": {},
   "source": [
    "> As sep is an argument of print, end is also an argument which tell what would be written at the end of the an instruction.\n",
    ">\n",
    "> Instruction is the line of code\n",
    ">\n",
    "> By default the value of end= new line. "
   ]
  },
  {
   "cell_type": "code",
   "execution_count": 13,
   "metadata": {},
   "outputs": [
    {
     "name": "stdout",
     "output_type": "stream",
     "text": [
      "if if use another print in next line the output of that will also be separated by line from this print.\n",
      "just like now, this is another print in next line, this text will be written in another line as output. because end=new line\n"
     ]
    }
   ],
   "source": [
    "print(\"if if use another print in next line the output of that will also be separated by line from this print.\")\n",
    "print(\"just like now, this is another print in next line, this text will be written in another line as output. because end=new line\")"
   ]
  },
  {
   "cell_type": "code",
   "execution_count": 15,
   "metadata": {},
   "outputs": [
    {
     "name": "stdout",
     "output_type": "stream",
     "text": [
      "now both the outputs of two different prints will be in the same like. This is because i change the value of end from default new line to a space. We can use other symbols or letter as well. \n"
     ]
    }
   ],
   "source": [
    "print(\"now both the outputs of two different prints will be in the same like.\", end=\" \")\n",
    "print(\"This is because i change the value of end from default new line to a space. We can use other symbols or letter as well. \")"
   ]
  }
 ],
 "metadata": {
  "kernelspec": {
   "display_name": "Python 3",
   "language": "python",
   "name": "python3"
  },
  "language_info": {
   "codemirror_mode": {
    "name": "ipython",
    "version": 3
   },
   "file_extension": ".py",
   "mimetype": "text/x-python",
   "name": "python",
   "nbconvert_exporter": "python",
   "pygments_lexer": "ipython3",
   "version": "3.10.6"
  },
  "orig_nbformat": 4
 },
 "nbformat": 4,
 "nbformat_minor": 2
}
