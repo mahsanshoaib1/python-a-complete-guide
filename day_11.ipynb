{
 "cells": [
  {
   "attachments": {},
   "cell_type": "markdown",
   "metadata": {},
   "source": [
    "# <------------------------------------------Day-11-------------------------------------->\n"
   ]
  },
  {
   "attachments": {},
   "cell_type": "markdown",
   "metadata": {},
   "source": [
    "## Functions in python\n",
    "\n",
    "**Functions are the block of code that perform a specific function.**\n",
    "\n",
    "There are two types of fucntions:\n",
    "1. build in functions\n",
    "2. User defined functions\n",
    "\n",
    "Fucntions that are already provided by language are called built in functions. for example print()\n",
    "\n",
    "User defined functions are those which are defined by user.\n",
    "\n",
    "\n",
    "syntax:\n",
    "\n",
    "\"\"\"python\n",
    "\n",
    "    def function_name():\n",
    "        # body of function\n",
    "        # return statement\n",
    "\"\"\""
   ]
  },
  {
   "cell_type": "code",
   "execution_count": 3,
   "metadata": {},
   "outputs": [
    {
     "name": "stdout",
     "output_type": "stream",
     "text": [
      "hello! how are you\n"
     ]
    }
   ],
   "source": [
    "def greet():  # definig the function\n",
    "    print(\"hello! how are you\")\n",
    "    \n",
    "greet() # calling the function"
   ]
  },
  {
   "cell_type": "code",
   "execution_count": 5,
   "metadata": {},
   "outputs": [
    {
     "name": "stdout",
     "output_type": "stream",
     "text": [
      "22\n"
     ]
    }
   ],
   "source": [
    "def sum(x,y):\n",
    "    print(x+y)\n",
    "sum(10,12)"
   ]
  },
  {
   "cell_type": "code",
   "execution_count": 6,
   "metadata": {},
   "outputs": [
    {
     "name": "stdout",
     "output_type": "stream",
     "text": [
      "the product is  403\n"
     ]
    }
   ],
   "source": [
    "a= int(input(\"write a number: \"))\n",
    "b= int(input(\"write a number: \"))\n",
    "\n",
    "def pro(x,y):\n",
    "    print(\"the product is \", x*y)\n",
    "pro(a, b)"
   ]
  },
  {
   "cell_type": "code",
   "execution_count": 7,
   "metadata": {},
   "outputs": [
    {
     "name": "stdout",
     "output_type": "stream",
     "text": [
      "The sum is  25\n"
     ]
    }
   ],
   "source": [
    "def getdata():\n",
    "    c= int(input(\"write a number: \"))\n",
    "    d= int(input(\"write a number: \"))\n",
    "    return c,d\n",
    "def add(x,y):\n",
    "    print(\"The sum is \", x+y)\n",
    "c,d = getdata()\n",
    "add(c,d)\n",
    "\n"
   ]
  },
  {
   "attachments": {},
   "cell_type": "markdown",
   "metadata": {},
   "source": [
    "### Recursive Functions:\n",
    "        Recursive functions are functions that call themselves within their own body. \n",
    "        They solve problems by breaking them down into smaller, similar subproblems."
   ]
  },
  {
   "cell_type": "code",
   "execution_count": 8,
   "metadata": {},
   "outputs": [
    {
     "name": "stdout",
     "output_type": "stream",
     "text": [
      "120\n"
     ]
    }
   ],
   "source": [
    "def factorial_recursive(n):\n",
    "    if n==1 or n==0:\n",
    "        return 1\n",
    "    return n*factorial_recursive(n-1)\n",
    "\n",
    "print(factorial_recursive(5))"
   ]
  },
  {
   "attachments": {},
   "cell_type": "markdown",
   "metadata": {},
   "source": [
    "### Higher-Order Functions:\n",
    "        Higher-order functions are functions that can accept other functions as arguments and/or return functions as results.\n",
    "        They treat functions as first-class citizens, allowing them to be manipulated and passed around as data.\n"
   ]
  },
  {
   "cell_type": "code",
   "execution_count": 12,
   "metadata": {},
   "outputs": [
    {
     "name": "stdout",
     "output_type": "stream",
     "text": [
      "The sum is  20\n"
     ]
    }
   ],
   "source": [
    "def getdata():\n",
    "    c= int(input(\"write a number: \"))\n",
    "    # d= int(input(\"write a number: \"))\n",
    "    return c\n",
    "def add(x,y=10):\n",
    "    print(\"The sum is \", x+y)\n",
    "\n",
    "add(getdata())\n"
   ]
  },
  {
   "cell_type": "code",
   "execution_count": 19,
   "metadata": {},
   "outputs": [
    {
     "name": "stdout",
     "output_type": "stream",
     "text": [
      "The sum is  5\n",
      "The sum is  6\n"
     ]
    }
   ],
   "source": [
    "def getdata():\n",
    "    c= int(input(\"write a number: \"))\n",
    "    d= int(input(\"write a number: \"))\n",
    "    return c,d\n",
    "def add1(x,y):\n",
    "        print(\"The sum is \", x+y)\n",
    "def mult(x,y):\n",
    "    print(\"The sum is \", x*y)\n",
    "def ope(x,y=10):\n",
    "    add1(x,y)\n",
    "    mult(x,y)\n",
    "    \n",
    "c,d = getdata()\n",
    "ope(c,d)\n"
   ]
  },
  {
   "cell_type": "code",
   "execution_count": null,
   "metadata": {},
   "outputs": [],
   "source": []
  }
 ],
 "metadata": {
  "kernelspec": {
   "display_name": "Python 3",
   "language": "python",
   "name": "python3"
  },
  "language_info": {
   "codemirror_mode": {
    "name": "ipython",
    "version": 3
   },
   "file_extension": ".py",
   "mimetype": "text/x-python",
   "name": "python",
   "nbconvert_exporter": "python",
   "pygments_lexer": "ipython3",
   "version": "3.10.6"
  },
  "orig_nbformat": 4
 },
 "nbformat": 4,
 "nbformat_minor": 2
}
