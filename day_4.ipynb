{
 "cells": [
  {
   "attachments": {},
   "cell_type": "markdown",
   "metadata": {},
   "source": [
    "# <------------------------------------------Day-4-------------------------------------->"
   ]
  },
  {
   "attachments": {},
   "cell_type": "markdown",
   "metadata": {},
   "source": [
    "## Strings in Python\n",
    "\n",
    "**Anything written in qoute, single double or triple qoutes.**\n",
    "\n",
    "\n",
    "fstring"
   ]
  },
  {
   "cell_type": "code",
   "execution_count": 2,
   "metadata": {},
   "outputs": [
    {
     "name": "stdout",
     "output_type": "stream",
     "text": [
      "My name is ahsan\n"
     ]
    }
   ],
   "source": [
    "a=\"ahsan\"\n",
    "print(f\"My name is {a}\") # we write f before our string and put our variable in the {} bracket. "
   ]
  },
  {
   "attachments": {},
   "cell_type": "markdown",
   "metadata": {},
   "source": [
    "## Input Fucntion\n",
    "\n",
    "**Input function is used to take input from the user.**\n",
    "\n",
    "Input is always a string"
   ]
  },
  {
   "cell_type": "code",
   "execution_count": 3,
   "metadata": {},
   "outputs": [
    {
     "name": "stdout",
     "output_type": "stream",
     "text": [
      "your name is ahsan\n"
     ]
    }
   ],
   "source": [
    "name = input(\"write your name. \")\n",
    "print(f\"your name is {name}\")"
   ]
  },
  {
   "cell_type": "code",
   "execution_count": 4,
   "metadata": {},
   "outputs": [
    {
     "name": "stdout",
     "output_type": "stream",
     "text": [
      "<class 'str'>\n"
     ]
    }
   ],
   "source": [
    "num = input(\"write any number: \") # its still gonna be a string. we have to type cast our variable.\n",
    "print(type(num))"
   ]
  },
  {
   "attachments": {},
   "cell_type": "markdown",
   "metadata": {},
   "source": [
    "## Slicing or indexing\n",
    "- slicing: selecting a subset of a list\n",
    "- [] Square bracket is used for indexing\n",
    "- Indexing always starts from index 0, or first letter of a string always on index 0"
   ]
  },
  {
   "cell_type": "code",
   "execution_count": 6,
   "metadata": {},
   "outputs": [
    {
     "name": "stdout",
     "output_type": "stream",
     "text": [
      "W\n"
     ]
    }
   ],
   "source": [
    "intro = \"We are learning python\"\n",
    "print(intro[0])  # output \"W\", as W is on index 0"
   ]
  },
  {
   "cell_type": "code",
   "execution_count": 8,
   "metadata": {},
   "outputs": [
    {
     "data": {
      "text/plain": [
       "'a'"
      ]
     },
     "execution_count": 8,
     "metadata": {},
     "output_type": "execute_result"
    }
   ],
   "source": [
    "intro[3] # output a"
   ]
  },
  {
   "cell_type": "code",
   "execution_count": 11,
   "metadata": {},
   "outputs": [
    {
     "data": {
      "text/plain": [
       "'We a'"
      ]
     },
     "execution_count": 11,
     "metadata": {},
     "output_type": "execute_result"
    }
   ],
   "source": [
    "intro[0:4] # [starting index: how many letters wanna display] output We a,  start from 0 index, display 4 letters"
   ]
  },
  {
   "cell_type": "code",
   "execution_count": 13,
   "metadata": {},
   "outputs": [
    {
     "data": {
      "text/plain": [
       "'W r e'"
      ]
     },
     "execution_count": 13,
     "metadata": {},
     "output_type": "execute_result"
    }
   ],
   "source": [
    "intro[0:10:2] # [start from 0 index: display upto letters: mis every 2nd letter]"
   ]
  },
  {
   "attachments": {},
   "cell_type": "markdown",
   "metadata": {},
   "source": [
    "# Methods for strigns"
   ]
  },
  {
   "attachments": {},
   "cell_type": "markdown",
   "metadata": {},
   "source": [
    "1. Length of string"
   ]
  },
  {
   "cell_type": "code",
   "execution_count": 14,
   "metadata": {},
   "outputs": [
    {
     "name": "stdout",
     "output_type": "stream",
     "text": [
      "7\n"
     ]
    }
   ],
   "source": [
    "car = \"ferrari\"\n",
    "print(len(car))         # output 7\n"
   ]
  },
  {
   "attachments": {},
   "cell_type": "markdown",
   "metadata": {},
   "source": [
    "2. Change the string into upper or lower case"
   ]
  },
  {
   "cell_type": "code",
   "execution_count": 15,
   "metadata": {},
   "outputs": [
    {
     "name": "stdout",
     "output_type": "stream",
     "text": [
      "FERRARI\n",
      "ferrari\n"
     ]
    }
   ],
   "source": [
    "print(car.upper())\n",
    "print(car.lower())"
   ]
  },
  {
   "attachments": {},
   "cell_type": "markdown",
   "metadata": {},
   "source": [
    "3. .endswith ----> gives ans in True/False\n"
   ]
  },
  {
   "cell_type": "code",
   "execution_count": 16,
   "metadata": {},
   "outputs": [
    {
     "name": "stdout",
     "output_type": "stream",
     "text": [
      "True\n",
      "False\n"
     ]
    }
   ],
   "source": [
    "print(car.endswith(\"i\"))        #output true\n",
    "print(car.endswith(\"d\"))        #output false"
   ]
  },
  {
   "attachments": {},
   "cell_type": "markdown",
   "metadata": {},
   "source": [
    "4. Replacing a word or letter"
   ]
  },
  {
   "cell_type": "code",
   "execution_count": 17,
   "metadata": {},
   "outputs": [
    {
     "name": "stdout",
     "output_type": "stream",
     "text": [
      " Kent is a poor boy.\n"
     ]
    }
   ],
   "source": [
    "story = \" Kent is a rich boy.\"\n",
    "print(story.replace('rich' , 'poor')) # output kent is a poor boy.\n"
   ]
  },
  {
   "attachments": {},
   "cell_type": "markdown",
   "metadata": {},
   "source": [
    "5. .find  ----> tells index no."
   ]
  },
  {
   "cell_type": "code",
   "execution_count": 18,
   "metadata": {},
   "outputs": [
    {
     "name": "stdout",
     "output_type": "stream",
     "text": [
      "4\n"
     ]
    }
   ],
   "source": [
    "print(car.find('a'))    #output 4"
   ]
  },
  {
   "attachments": {},
   "cell_type": "markdown",
   "metadata": {},
   "source": [
    "6. Capitalize the first letter"
   ]
  },
  {
   "cell_type": "code",
   "execution_count": 21,
   "metadata": {},
   "outputs": [
    {
     "name": "stdout",
     "output_type": "stream",
     "text": [
      "Ferrari\n"
     ]
    }
   ],
   "source": [
    "print(car.capitalize())"
   ]
  },
  {
   "attachments": {},
   "cell_type": "markdown",
   "metadata": {},
   "source": [
    "7. Capitalize the first letter of each word and lower the rest of them, or changed into a tittle"
   ]
  },
  {
   "cell_type": "code",
   "execution_count": 22,
   "metadata": {},
   "outputs": [
    {
     "name": "stdout",
     "output_type": "stream",
     "text": [
      " Kent Is A Rich Boy.\n"
     ]
    }
   ],
   "source": [
    "print(story.title())"
   ]
  },
  {
   "attachments": {},
   "cell_type": "markdown",
   "metadata": {},
   "source": [
    "8. Splitting the string into a list"
   ]
  },
  {
   "cell_type": "code",
   "execution_count": 29,
   "metadata": {},
   "outputs": [
    {
     "name": "stdout",
     "output_type": "stream",
     "text": [
      "['Kent', 'is', 'a', 'rich', 'boy.']\n",
      "[' Kent ', 's a r', 'ch boy.']\n"
     ]
    }
   ],
   "source": [
    "print(story.split()) # we can also pass an argument on which bases the string will split up. \n",
    "print(story.split(\"i\"))"
   ]
  },
  {
   "cell_type": "code",
   "execution_count": 38,
   "metadata": {},
   "outputs": [
    {
     "data": {
      "text/plain": [
       "3"
      ]
     },
     "execution_count": 38,
     "metadata": {},
     "output_type": "execute_result"
    }
   ],
   "source": [
    "car.count(\"r\")"
   ]
  },
  {
   "attachments": {},
   "cell_type": "markdown",
   "metadata": {},
   "source": [
    "10. To translate"
   ]
  },
  {
   "cell_type": "code",
   "execution_count": 39,
   "metadata": {},
   "outputs": [
    {
     "name": "stdout",
     "output_type": "stream",
     "text": [
      "Hippo, Worpd!\n"
     ]
    }
   ],
   "source": [
    "text = \"Hello, World!\"\n",
    "translation_table = str.maketrans(\"el\", \"ip\")\n",
    "\n",
    "translated_text = text.translate(translation_table)\n",
    "print(translated_text)  # Output: \"Hippo, Worpd!\""
   ]
  },
  {
   "attachments": {},
   "cell_type": "markdown",
   "metadata": {},
   "source": [
    "## ----- Escape sequence Characters ------\n",
    "\n",
    "\n",
    "> It allow you to include special characters within a string by using a backslash.\n",
    "    > commonly used are :\n",
    "\n",
    "        \\n - New line\n",
    "    \n",
    "        \\t - Tab\n",
    "    \n",
    "        \\\" - Double quote\n",
    "    \n",
    "        \\' - Single quote\n",
    "    \n",
    "        \\\\ - Backslash\n",
    "    \n",
    "        \\b - backspace'''"
   ]
  },
  {
   "cell_type": "code",
   "execution_count": 40,
   "metadata": {},
   "outputs": [
    {
     "name": "stdout",
     "output_type": "stream",
     "text": [
      "Art is the lie that enables us to realize the truth.\n",
      "Art \n",
      "is the \"lie that \tenables us to rea\\lize the 'truth.\n"
     ]
    }
   ],
   "source": [
    "qoute1 = \"Art is the lie that enables us to realize the truth.\"\n",
    "print(qoute1)\n",
    "qoute2 = \"Art \\nis the \\\"lie that \\tenables us to rea\\\\lize the \\'truth.\"\n",
    "print(qoute2)\n"
   ]
  }
 ],
 "metadata": {
  "kernelspec": {
   "display_name": "Python 3",
   "language": "python",
   "name": "python3"
  },
  "language_info": {
   "codemirror_mode": {
    "name": "ipython",
    "version": 3
   },
   "file_extension": ".py",
   "mimetype": "text/x-python",
   "name": "python",
   "nbconvert_exporter": "python",
   "pygments_lexer": "ipython3",
   "version": "3.10.6"
  },
  "orig_nbformat": 4
 },
 "nbformat": 4,
 "nbformat_minor": 2
}
