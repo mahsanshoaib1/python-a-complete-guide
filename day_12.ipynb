{
 "cells": [
  {
   "attachments": {},
   "cell_type": "markdown",
   "metadata": {},
   "source": [
    "# <------------------------------------------Day-12-------------------------------------->\n"
   ]
  },
  {
   "attachments": {},
   "cell_type": "markdown",
   "metadata": {},
   "source": [
    "**Data structures :are objects or containers that allow you to store and organize data in a specific format.**\n",
    "There are four data structures in python:\n",
    "\n",
    "1. List\n",
    "2. Tuple\n",
    "3. Set\n",
    "4. Dictionary"
   ]
  },
  {
   "attachments": {},
   "cell_type": "markdown",
   "metadata": {},
   "source": [
    "## List\n",
    "A list is an ordered collection of items.\n",
    "\n",
    "It can store elements of different data types.\n",
    "\n",
    "square bracket is used to make a list\n",
    "\n",
    "Lists are mutable, meaning you can modify them by adding, removing, or changing elements."
   ]
  },
  {
   "cell_type": "code",
   "execution_count": 8,
   "metadata": {},
   "outputs": [
    {
     "name": "stdout",
     "output_type": "stream",
     "text": [
      "[12, 13, 14, 15, 15, 16, 17, 18, 19, 20]\n"
     ]
    }
   ],
   "source": [
    "li1 = [12,13,14,15,15,16,17,18,19,20]\n",
    "print(li1)"
   ]
  },
  {
   "cell_type": "code",
   "execution_count": 9,
   "metadata": {},
   "outputs": [
    {
     "name": "stdout",
     "output_type": "stream",
     "text": [
      "['Hi', 'hello', 'fine']\n"
     ]
    }
   ],
   "source": [
    "li2 = [\"Hi\", \"hello\", \"fine\"]\n",
    "print(li2)"
   ]
  },
  {
   "attachments": {},
   "cell_type": "markdown",
   "metadata": {},
   "source": [
    "### Indexing in list\n"
   ]
  },
  {
   "cell_type": "code",
   "execution_count": 15,
   "metadata": {},
   "outputs": [
    {
     "name": "stdout",
     "output_type": "stream",
     "text": [
      "[20, 13, 14, 15, 15, 16, 17, 18, 19, 20]\n",
      "20\n",
      "13\n"
     ]
    }
   ],
   "source": [
    "\n",
    "print(li1)    # output = full list\n",
    "print(li1[0]) #ouput = first value of list\n",
    "print(li1[1]) #ouput = 2nd value of list"
   ]
  },
  {
   "cell_type": "code",
   "execution_count": 12,
   "metadata": {},
   "outputs": [
    {
     "name": "stdout",
     "output_type": "stream",
     "text": [
      "[12, 13, 14]\n"
     ]
    }
   ],
   "source": [
    "print(li1[0 : 3 ]) #ouput = from first value to 3rd value. third value is included but 3rd index is not, as indexing starts from 0 so we include 0,1,2."
   ]
  },
  {
   "cell_type": "code",
   "execution_count": 13,
   "metadata": {},
   "outputs": [
    {
     "name": "stdout",
     "output_type": "stream",
     "text": [
      "[14, 15, 17, 19]\n"
     ]
    }
   ],
   "source": [
    "print(li1[2 :10 : 2]) # output = from index 2 to value 10 and skip every 2nd value. "
   ]
  },
  {
   "cell_type": "code",
   "execution_count": 16,
   "metadata": {},
   "outputs": [
    {
     "name": "stdout",
     "output_type": "stream",
     "text": [
      "[20, 13, 14, 15, 15, 16, 17, 18, 19, 20]\n"
     ]
    }
   ],
   "source": [
    "li1[0] = 20 # updating the value of list at index 0\n",
    "print(li1)"
   ]
  },
  {
   "attachments": {},
   "cell_type": "markdown",
   "metadata": {},
   "source": [
    "### Methods of list\n"
   ]
  },
  {
   "cell_type": "code",
   "execution_count": 20,
   "metadata": {},
   "outputs": [
    {
     "name": "stdout",
     "output_type": "stream",
     "text": [
      "[13, 14, 15, 15, 16, 17, 18, 19, 20, 20]\n"
     ]
    }
   ],
   "source": [
    "li1.sort() # sort the list\n",
    "print(li1)"
   ]
  },
  {
   "cell_type": "code",
   "execution_count": 22,
   "metadata": {},
   "outputs": [
    {
     "data": {
      "text/plain": [
       "[13, 14, 15, 15, 16, 17, 18, 19, 20, 20, 4, 4]"
      ]
     },
     "execution_count": 22,
     "metadata": {},
     "output_type": "execute_result"
    }
   ],
   "source": [
    "li1.append(4) # add a value at the end of the list\n",
    "li1"
   ]
  },
  {
   "cell_type": "code",
   "execution_count": 31,
   "metadata": {},
   "outputs": [
    {
     "data": {
      "text/plain": [
       "[14, 15, 15, 70, 16, 17, 18, 19, 20, 20, 4, 4]"
      ]
     },
     "execution_count": 31,
     "metadata": {},
     "output_type": "execute_result"
    }
   ],
   "source": [
    "li1.insert(3,70) # adding 70 at index 3\n",
    "li1"
   ]
  },
  {
   "cell_type": "code",
   "execution_count": 32,
   "metadata": {},
   "outputs": [
    {
     "data": {
      "text/plain": [
       "[14, 15, 15, 16, 17, 18, 19, 20, 20, 4, 4]"
      ]
     },
     "execution_count": 32,
     "metadata": {},
     "output_type": "execute_result"
    }
   ],
   "source": [
    "li1.remove(70) # remove the value, parameter is a value\n",
    "li1"
   ]
  },
  {
   "cell_type": "code",
   "execution_count": 33,
   "metadata": {},
   "outputs": [
    {
     "data": {
      "text/plain": [
       "[15, 15, 16, 17, 18, 19, 20, 20, 4, 4]"
      ]
     },
     "execution_count": 33,
     "metadata": {},
     "output_type": "execute_result"
    }
   ],
   "source": [
    "li1.pop(0) # also remove the value with the help of index. paramenter is index\n",
    "li1"
   ]
  },
  {
   "cell_type": "code",
   "execution_count": null,
   "metadata": {},
   "outputs": [],
   "source": []
  },
  {
   "cell_type": "code",
   "execution_count": 36,
   "metadata": {},
   "outputs": [
    {
     "data": {
      "text/plain": [
       "2"
      ]
     },
     "execution_count": 36,
     "metadata": {},
     "output_type": "execute_result"
    }
   ],
   "source": [
    "li1.count(15)    # count a specific value"
   ]
  },
  {
   "cell_type": "code",
   "execution_count": 38,
   "metadata": {},
   "outputs": [
    {
     "data": {
      "text/plain": [
       "10"
      ]
     },
     "execution_count": 38,
     "metadata": {},
     "output_type": "execute_result"
    }
   ],
   "source": [
    "len(li1) # tells the length of list"
   ]
  }
 ],
 "metadata": {
  "kernelspec": {
   "display_name": "Python 3",
   "language": "python",
   "name": "python3"
  },
  "language_info": {
   "codemirror_mode": {
    "name": "ipython",
    "version": 3
   },
   "file_extension": ".py",
   "mimetype": "text/x-python",
   "name": "python",
   "nbconvert_exporter": "python",
   "pygments_lexer": "ipython3",
   "version": "3.10.6"
  },
  "orig_nbformat": 4
 },
 "nbformat": 4,
 "nbformat_minor": 2
}
